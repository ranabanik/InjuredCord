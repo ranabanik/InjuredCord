{
 "cells": [
  {
   "cell_type": "code",
   "execution_count": 5,
   "id": "0fb6e778",
   "metadata": {},
   "outputs": [],
   "source": [
    "import sys\n",
    "sys.path.append(r'/home/banikr/PycharmProjects/spinalcordinjury/')\n",
    "import os\n",
    "from glob import glob\n",
    "from Codes.Utilities import ImzmlAll, _smooth_spectrum\n",
    "import peakutils\n",
    "import matplotlib.pyplot as plt\n",
    "import matplotlib as mtl\n",
    "mtl.use(\"TKAgg\")\n",
    "from matplotlib.widgets import Slider\n",
    "import numpy as np"
   ]
  },
  {
   "cell_type": "code",
   "execution_count": 2,
   "id": "3c999708",
   "metadata": {},
   "outputs": [
    {
     "name": "stdout",
     "output_type": "stream",
     "text": [
      "/media/banikr/banikr/SpinalCordInjury/MALDI/230713-Chen-intactproteins/230713-Chen-intactproteins.imzML\n"
     ]
    },
    {
     "name": "stderr",
     "output_type": "stream",
     "text": [
      "/home/banikr/.local/lib/python3.7/site-packages/pyimzML-1.5.1-py3.7.egg/pyimzml/ontology/ontology.py:94: UserWarning: Accession MS:1002302 found with incorrect name \"Bruker Container file\". Updating name to \"Bruker Container format\".\n",
      "  % (accession, raw_name, name)\n",
      "/home/banikr/.local/lib/python3.7/site-packages/pyimzML-1.5.1-py3.7.egg/pyimzml/ontology/ontology.py:94: UserWarning: Accession IMS:1000046 found with incorrect name \"pixel size\". Updating name to \"pixel size (x)\".\n",
      "  % (accession, raw_name, name)\n"
     ]
    }
   ],
   "source": [
    "fileDir = r'/media/banikr/banikr/SpinalCordInjury/MALDI/230713-Chen-intactproteins'\n",
    "mspath = glob(os.path.join(fileDir, '*.imzML'))[0]\n",
    "print(mspath)\n",
    "\n",
    "ImzPro = ImzmlAll(mspath)"
   ]
  },
  {
   "cell_type": "code",
   "execution_count": 6,
   "id": "691c1c88",
   "metadata": {},
   "outputs": [
    {
     "name": "stderr",
     "output_type": "stream",
     "text": [
      "listing spectra...: 100%|███████████████████████████████████████████████████████████████████████████████████████████████████████████████████████████████████████████████████| 1288/1288 [00:00<00:00, 25335.74it/s]"
     ]
    },
    {
     "name": "stdout",
     "output_type": "stream",
     "text": [
      "137\n",
      "(137, 34526)\n"
     ]
    },
    {
     "name": "stderr",
     "output_type": "stream",
     "text": [
      "\n"
     ]
    }
   ],
   "source": [
    "sec1 = ImzPro.get_region_spectra(regID=1)\n",
    "print(len(sec1))\n",
    "sec1_spec = []\n",
    "for i in range(len(sec1)):\n",
    "    sec1_spec.append(sec1[i][1])\n",
    "plt.plot(sec1_spec[10])\n",
    "plt.show()\n",
    "print(np.array(sec1_spec).shape)"
   ]
  }
 ],
 "metadata": {
  "kernelspec": {
   "display_name": "Python 3 (ipykernel)",
   "language": "python",
   "name": "python3"
  },
  "language_info": {
   "codemirror_mode": {
    "name": "ipython",
    "version": 3
   },
   "file_extension": ".py",
   "mimetype": "text/x-python",
   "name": "python",
   "nbconvert_exporter": "python",
   "pygments_lexer": "ipython3",
   "version": "3.7.13"
  }
 },
 "nbformat": 4,
 "nbformat_minor": 5
}
